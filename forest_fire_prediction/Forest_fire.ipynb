{
  "cells": [
    {
      "cell_type": "markdown",
      "metadata": {
        "id": "B6z7bYLcWVoN"
      },
      "source": [
        "#Forest fire forecasting - Regression"
      ]
    },
    {
      "cell_type": "markdown",
      "metadata": {
        "id": "N8WoAKDoYjwx"
      },
      "source": [
        "## Importing libraries"
      ]
    },
    {
      "cell_type": "code",
      "execution_count": null,
      "metadata": {
        "id": "WZ0_5jbYYnYg"
      },
      "outputs": [],
      "source": [
        "import time\n",
        "import numpy as np \n",
        "import pandas as pd  \n",
        "import keras\n",
        "from matplotlib import pyplot as plt\n",
        "import seaborn as sb\n",
        "import tensorflow as tf\n",
        "from numpy.lib.function_base import median\n",
        "\n",
        "from google.colab import drive\n",
        "\n",
        "from keras import layers \n",
        "\n",
        "from sklearn.linear_model import LinearRegression\n",
        "from sklearn.linear_model import HuberRegressor\n",
        "from sklearn.linear_model import RidgeCV\n",
        "from sklearn.linear_model import LassoCV\n",
        "from sklearn.svm import SVR,SVC\n",
        "from sklearn.neural_network import MLPRegressor\n",
        "from sklearn.tree import DecisionTreeRegressor\n",
        "\n",
        "from sklearn.model_selection import train_test_split,GridSearchCV\n",
        "from sklearn.model_selection import cross_val_score\n",
        "from sklearn.model_selection import cross_validate\n",
        "from sklearn.model_selection import KFold\n",
        "from sklearn.metrics import mean_squared_error\n",
        "from sklearn.metrics import mean_absolute_error as mae\n",
        "from sklearn.preprocessing import StandardScaler, PolynomialFeatures"
      ]
    },
    {
      "cell_type": "markdown",
      "metadata": {
        "id": "R3z9TQHWYq0X"
      },
      "source": [
        "## Load data"
      ]
    },
    {
      "cell_type": "code",
      "execution_count": null,
      "metadata": {
        "id": "JU3QXaXdVwLq"
      },
      "outputs": [],
      "source": [
        "def mount_folder():\n",
        "    drive.mount('https://drive.google.com/file/d/1GI4nkTM6L60gukYNVoe6tAjjK_4ZP4UX/view?usp=sharing')\n",
        "\n",
        "def load_data(): \n",
        "    # Define the file path\n",
        "    path = './shared/forestfires.csv' \n",
        "    # Load the data as a Pandas DataFrame\n",
        "    df = pd.read_csv(path) \n",
        "    \n",
        "    return df\n",
        "\n",
        "def load_data_from_github():\n",
        "  url = 'https://raw.githubusercontent.com/erasherra/Forest_fire_prediction/main/forestfires.csv'\n",
        "  df = pd.read_csv(url)\n",
        "  return df"
      ]
    },
    {
      "cell_type": "code",
      "execution_count": null,
      "metadata": {
        "id": "_BGlyx85V21r"
      },
      "outputs": [],
      "source": [
        "df = load_data_from_github()"
      ]
    },
    {
      "cell_type": "markdown",
      "metadata": {
        "id": "t-hRmsxCY0Do"
      },
      "source": [
        "## Data preprocessing"
      ]
    },
    {
      "cell_type": "markdown",
      "metadata": {
        "id": "8sl9tDDPY5FR"
      },
      "source": [
        "### View dataset"
      ]
    },
    {
      "cell_type": "code",
      "execution_count": null,
      "metadata": {
        "id": "lpfFTNoXY9Ha",
        "colab": {
          "base_uri": "https://localhost:8080/",
          "height": 206
        },
        "outputId": "5f25c538-a035-4077-e2ef-b29fc93fc3c1"
      },
      "outputs": [
        {
          "output_type": "execute_result",
          "data": {
            "text/plain": [
              "   X  Y month  day  FFMC   DMC     DC  ISI  temp  RH  wind  rain  area\n",
              "0  7  5   mar  fri  86.2  26.2   94.3  5.1   8.2  51   6.7   0.0   0.0\n",
              "1  7  4   oct  tue  90.6  35.4  669.1  6.7  18.0  33   0.9   0.0   0.0\n",
              "2  7  4   oct  sat  90.6  43.7  686.9  6.7  14.6  33   1.3   0.0   0.0\n",
              "3  8  6   mar  fri  91.7  33.3   77.5  9.0   8.3  97   4.0   0.2   0.0\n",
              "4  8  6   mar  sun  89.3  51.3  102.2  9.6  11.4  99   1.8   0.0   0.0"
            ],
            "text/html": [
              "\n",
              "  <div id=\"df-f7176ff1-8acb-4ee8-8b57-5725ae4392ac\">\n",
              "    <div class=\"colab-df-container\">\n",
              "      <div>\n",
              "<style scoped>\n",
              "    .dataframe tbody tr th:only-of-type {\n",
              "        vertical-align: middle;\n",
              "    }\n",
              "\n",
              "    .dataframe tbody tr th {\n",
              "        vertical-align: top;\n",
              "    }\n",
              "\n",
              "    .dataframe thead th {\n",
              "        text-align: right;\n",
              "    }\n",
              "</style>\n",
              "<table border=\"1\" class=\"dataframe\">\n",
              "  <thead>\n",
              "    <tr style=\"text-align: right;\">\n",
              "      <th></th>\n",
              "      <th>X</th>\n",
              "      <th>Y</th>\n",
              "      <th>month</th>\n",
              "      <th>day</th>\n",
              "      <th>FFMC</th>\n",
              "      <th>DMC</th>\n",
              "      <th>DC</th>\n",
              "      <th>ISI</th>\n",
              "      <th>temp</th>\n",
              "      <th>RH</th>\n",
              "      <th>wind</th>\n",
              "      <th>rain</th>\n",
              "      <th>area</th>\n",
              "    </tr>\n",
              "  </thead>\n",
              "  <tbody>\n",
              "    <tr>\n",
              "      <th>0</th>\n",
              "      <td>7</td>\n",
              "      <td>5</td>\n",
              "      <td>mar</td>\n",
              "      <td>fri</td>\n",
              "      <td>86.2</td>\n",
              "      <td>26.2</td>\n",
              "      <td>94.3</td>\n",
              "      <td>5.1</td>\n",
              "      <td>8.2</td>\n",
              "      <td>51</td>\n",
              "      <td>6.7</td>\n",
              "      <td>0.0</td>\n",
              "      <td>0.0</td>\n",
              "    </tr>\n",
              "    <tr>\n",
              "      <th>1</th>\n",
              "      <td>7</td>\n",
              "      <td>4</td>\n",
              "      <td>oct</td>\n",
              "      <td>tue</td>\n",
              "      <td>90.6</td>\n",
              "      <td>35.4</td>\n",
              "      <td>669.1</td>\n",
              "      <td>6.7</td>\n",
              "      <td>18.0</td>\n",
              "      <td>33</td>\n",
              "      <td>0.9</td>\n",
              "      <td>0.0</td>\n",
              "      <td>0.0</td>\n",
              "    </tr>\n",
              "    <tr>\n",
              "      <th>2</th>\n",
              "      <td>7</td>\n",
              "      <td>4</td>\n",
              "      <td>oct</td>\n",
              "      <td>sat</td>\n",
              "      <td>90.6</td>\n",
              "      <td>43.7</td>\n",
              "      <td>686.9</td>\n",
              "      <td>6.7</td>\n",
              "      <td>14.6</td>\n",
              "      <td>33</td>\n",
              "      <td>1.3</td>\n",
              "      <td>0.0</td>\n",
              "      <td>0.0</td>\n",
              "    </tr>\n",
              "    <tr>\n",
              "      <th>3</th>\n",
              "      <td>8</td>\n",
              "      <td>6</td>\n",
              "      <td>mar</td>\n",
              "      <td>fri</td>\n",
              "      <td>91.7</td>\n",
              "      <td>33.3</td>\n",
              "      <td>77.5</td>\n",
              "      <td>9.0</td>\n",
              "      <td>8.3</td>\n",
              "      <td>97</td>\n",
              "      <td>4.0</td>\n",
              "      <td>0.2</td>\n",
              "      <td>0.0</td>\n",
              "    </tr>\n",
              "    <tr>\n",
              "      <th>4</th>\n",
              "      <td>8</td>\n",
              "      <td>6</td>\n",
              "      <td>mar</td>\n",
              "      <td>sun</td>\n",
              "      <td>89.3</td>\n",
              "      <td>51.3</td>\n",
              "      <td>102.2</td>\n",
              "      <td>9.6</td>\n",
              "      <td>11.4</td>\n",
              "      <td>99</td>\n",
              "      <td>1.8</td>\n",
              "      <td>0.0</td>\n",
              "      <td>0.0</td>\n",
              "    </tr>\n",
              "  </tbody>\n",
              "</table>\n",
              "</div>\n",
              "      <button class=\"colab-df-convert\" onclick=\"convertToInteractive('df-f7176ff1-8acb-4ee8-8b57-5725ae4392ac')\"\n",
              "              title=\"Convert this dataframe to an interactive table.\"\n",
              "              style=\"display:none;\">\n",
              "        \n",
              "  <svg xmlns=\"http://www.w3.org/2000/svg\" height=\"24px\"viewBox=\"0 0 24 24\"\n",
              "       width=\"24px\">\n",
              "    <path d=\"M0 0h24v24H0V0z\" fill=\"none\"/>\n",
              "    <path d=\"M18.56 5.44l.94 2.06.94-2.06 2.06-.94-2.06-.94-.94-2.06-.94 2.06-2.06.94zm-11 1L8.5 8.5l.94-2.06 2.06-.94-2.06-.94L8.5 2.5l-.94 2.06-2.06.94zm10 10l.94 2.06.94-2.06 2.06-.94-2.06-.94-.94-2.06-.94 2.06-2.06.94z\"/><path d=\"M17.41 7.96l-1.37-1.37c-.4-.4-.92-.59-1.43-.59-.52 0-1.04.2-1.43.59L10.3 9.45l-7.72 7.72c-.78.78-.78 2.05 0 2.83L4 21.41c.39.39.9.59 1.41.59.51 0 1.02-.2 1.41-.59l7.78-7.78 2.81-2.81c.8-.78.8-2.07 0-2.86zM5.41 20L4 18.59l7.72-7.72 1.47 1.35L5.41 20z\"/>\n",
              "  </svg>\n",
              "      </button>\n",
              "      \n",
              "  <style>\n",
              "    .colab-df-container {\n",
              "      display:flex;\n",
              "      flex-wrap:wrap;\n",
              "      gap: 12px;\n",
              "    }\n",
              "\n",
              "    .colab-df-convert {\n",
              "      background-color: #E8F0FE;\n",
              "      border: none;\n",
              "      border-radius: 50%;\n",
              "      cursor: pointer;\n",
              "      display: none;\n",
              "      fill: #1967D2;\n",
              "      height: 32px;\n",
              "      padding: 0 0 0 0;\n",
              "      width: 32px;\n",
              "    }\n",
              "\n",
              "    .colab-df-convert:hover {\n",
              "      background-color: #E2EBFA;\n",
              "      box-shadow: 0px 1px 2px rgba(60, 64, 67, 0.3), 0px 1px 3px 1px rgba(60, 64, 67, 0.15);\n",
              "      fill: #174EA6;\n",
              "    }\n",
              "\n",
              "    [theme=dark] .colab-df-convert {\n",
              "      background-color: #3B4455;\n",
              "      fill: #D2E3FC;\n",
              "    }\n",
              "\n",
              "    [theme=dark] .colab-df-convert:hover {\n",
              "      background-color: #434B5C;\n",
              "      box-shadow: 0px 1px 3px 1px rgba(0, 0, 0, 0.15);\n",
              "      filter: drop-shadow(0px 1px 2px rgba(0, 0, 0, 0.3));\n",
              "      fill: #FFFFFF;\n",
              "    }\n",
              "  </style>\n",
              "\n",
              "      <script>\n",
              "        const buttonEl =\n",
              "          document.querySelector('#df-f7176ff1-8acb-4ee8-8b57-5725ae4392ac button.colab-df-convert');\n",
              "        buttonEl.style.display =\n",
              "          google.colab.kernel.accessAllowed ? 'block' : 'none';\n",
              "\n",
              "        async function convertToInteractive(key) {\n",
              "          const element = document.querySelector('#df-f7176ff1-8acb-4ee8-8b57-5725ae4392ac');\n",
              "          const dataTable =\n",
              "            await google.colab.kernel.invokeFunction('convertToInteractive',\n",
              "                                                     [key], {});\n",
              "          if (!dataTable) return;\n",
              "\n",
              "          const docLinkHtml = 'Like what you see? Visit the ' +\n",
              "            '<a target=\"_blank\" href=https://colab.research.google.com/notebooks/data_table.ipynb>data table notebook</a>'\n",
              "            + ' to learn more about interactive tables.';\n",
              "          element.innerHTML = '';\n",
              "          dataTable['output_type'] = 'display_data';\n",
              "          await google.colab.output.renderOutput(dataTable, element);\n",
              "          const docLink = document.createElement('div');\n",
              "          docLink.innerHTML = docLinkHtml;\n",
              "          element.appendChild(docLink);\n",
              "        }\n",
              "      </script>\n",
              "    </div>\n",
              "  </div>\n",
              "  "
            ]
          },
          "metadata": {},
          "execution_count": 72
        }
      ],
      "source": [
        "df.head()"
      ]
    },
    {
      "cell_type": "markdown",
      "metadata": {
        "id": "C_bXA4ytZlVe"
      },
      "source": [
        "### Check null values"
      ]
    },
    {
      "cell_type": "code",
      "execution_count": null,
      "metadata": {
        "id": "AwNy7IwhV79C",
        "colab": {
          "base_uri": "https://localhost:8080/"
        },
        "outputId": "1bb86d26-344e-4512-b5d0-c9bbc90ebb47"
      },
      "outputs": [
        {
          "output_type": "execute_result",
          "data": {
            "text/plain": [
              "X        0\n",
              "Y        0\n",
              "month    0\n",
              "day      0\n",
              "FFMC     0\n",
              "DMC      0\n",
              "DC       0\n",
              "ISI      0\n",
              "temp     0\n",
              "RH       0\n",
              "wind     0\n",
              "rain     0\n",
              "area     0\n",
              "dtype: int64"
            ]
          },
          "metadata": {},
          "execution_count": 73
        }
      ],
      "source": [
        "df.isnull().sum()"
      ]
    },
    {
      "cell_type": "markdown",
      "metadata": {
        "id": "PS3RnSI8m3BD"
      },
      "source": [
        "### Converting categorical values to numerical"
      ]
    },
    {
      "cell_type": "code",
      "execution_count": null,
      "metadata": {
        "id": "Ch0fjb9Vm86x",
        "colab": {
          "base_uri": "https://localhost:8080/",
          "height": 520
        },
        "outputId": "fa80ba01-34d1-4a52-c865-5b2fcc6a83eb"
      },
      "outputs": [
        {
          "output_type": "execute_result",
          "data": {
            "text/plain": [
              "    X  Y  month  day  FFMC    DMC     DC   ISI  temp  RH  wind  rain  area\n",
              "0   7  5      3    5  86.2   26.2   94.3   5.1   8.2  51   6.7   0.0   0.0\n",
              "1   7  4     10    2  90.6   35.4  669.1   6.7  18.0  33   0.9   0.0   0.0\n",
              "2   7  4     10    6  90.6   43.7  686.9   6.7  14.6  33   1.3   0.0   0.0\n",
              "3   8  6      3    5  91.7   33.3   77.5   9.0   8.3  97   4.0   0.2   0.0\n",
              "4   8  6      3    7  89.3   51.3  102.2   9.6  11.4  99   1.8   0.0   0.0\n",
              "5   8  6      8    7  92.3   85.3  488.0  14.7  22.2  29   5.4   0.0   0.0\n",
              "6   8  6      8    1  92.3   88.9  495.6   8.5  24.1  27   3.1   0.0   0.0\n",
              "7   8  6      8    1  91.5  145.4  608.2  10.7   8.0  86   2.2   0.0   0.0\n",
              "8   8  6      9    2  91.0  129.5  692.6   7.0  13.1  63   5.4   0.0   0.0\n",
              "9   7  5      9    6  92.5   88.0  698.6   7.1  22.8  40   4.0   0.0   0.0\n",
              "10  7  5      9    6  92.5   88.0  698.6   7.1  17.8  51   7.2   0.0   0.0\n",
              "11  7  5      9    6  92.8   73.2  713.0  22.6  19.3  38   4.0   0.0   0.0\n",
              "12  6  5      8    5  63.5   70.8  665.3   0.8  17.0  72   6.7   0.0   0.0\n",
              "13  6  5      9    1  90.9  126.5  686.5   7.0  21.3  42   2.2   0.0   0.0\n",
              "14  6  5      9    3  92.9  133.3  699.6   9.2  26.4  21   4.5   0.0   0.0"
            ],
            "text/html": [
              "\n",
              "  <div id=\"df-db2e3306-119c-41ec-9826-e008fc3f7058\">\n",
              "    <div class=\"colab-df-container\">\n",
              "      <div>\n",
              "<style scoped>\n",
              "    .dataframe tbody tr th:only-of-type {\n",
              "        vertical-align: middle;\n",
              "    }\n",
              "\n",
              "    .dataframe tbody tr th {\n",
              "        vertical-align: top;\n",
              "    }\n",
              "\n",
              "    .dataframe thead th {\n",
              "        text-align: right;\n",
              "    }\n",
              "</style>\n",
              "<table border=\"1\" class=\"dataframe\">\n",
              "  <thead>\n",
              "    <tr style=\"text-align: right;\">\n",
              "      <th></th>\n",
              "      <th>X</th>\n",
              "      <th>Y</th>\n",
              "      <th>month</th>\n",
              "      <th>day</th>\n",
              "      <th>FFMC</th>\n",
              "      <th>DMC</th>\n",
              "      <th>DC</th>\n",
              "      <th>ISI</th>\n",
              "      <th>temp</th>\n",
              "      <th>RH</th>\n",
              "      <th>wind</th>\n",
              "      <th>rain</th>\n",
              "      <th>area</th>\n",
              "    </tr>\n",
              "  </thead>\n",
              "  <tbody>\n",
              "    <tr>\n",
              "      <th>0</th>\n",
              "      <td>7</td>\n",
              "      <td>5</td>\n",
              "      <td>3</td>\n",
              "      <td>5</td>\n",
              "      <td>86.2</td>\n",
              "      <td>26.2</td>\n",
              "      <td>94.3</td>\n",
              "      <td>5.1</td>\n",
              "      <td>8.2</td>\n",
              "      <td>51</td>\n",
              "      <td>6.7</td>\n",
              "      <td>0.0</td>\n",
              "      <td>0.0</td>\n",
              "    </tr>\n",
              "    <tr>\n",
              "      <th>1</th>\n",
              "      <td>7</td>\n",
              "      <td>4</td>\n",
              "      <td>10</td>\n",
              "      <td>2</td>\n",
              "      <td>90.6</td>\n",
              "      <td>35.4</td>\n",
              "      <td>669.1</td>\n",
              "      <td>6.7</td>\n",
              "      <td>18.0</td>\n",
              "      <td>33</td>\n",
              "      <td>0.9</td>\n",
              "      <td>0.0</td>\n",
              "      <td>0.0</td>\n",
              "    </tr>\n",
              "    <tr>\n",
              "      <th>2</th>\n",
              "      <td>7</td>\n",
              "      <td>4</td>\n",
              "      <td>10</td>\n",
              "      <td>6</td>\n",
              "      <td>90.6</td>\n",
              "      <td>43.7</td>\n",
              "      <td>686.9</td>\n",
              "      <td>6.7</td>\n",
              "      <td>14.6</td>\n",
              "      <td>33</td>\n",
              "      <td>1.3</td>\n",
              "      <td>0.0</td>\n",
              "      <td>0.0</td>\n",
              "    </tr>\n",
              "    <tr>\n",
              "      <th>3</th>\n",
              "      <td>8</td>\n",
              "      <td>6</td>\n",
              "      <td>3</td>\n",
              "      <td>5</td>\n",
              "      <td>91.7</td>\n",
              "      <td>33.3</td>\n",
              "      <td>77.5</td>\n",
              "      <td>9.0</td>\n",
              "      <td>8.3</td>\n",
              "      <td>97</td>\n",
              "      <td>4.0</td>\n",
              "      <td>0.2</td>\n",
              "      <td>0.0</td>\n",
              "    </tr>\n",
              "    <tr>\n",
              "      <th>4</th>\n",
              "      <td>8</td>\n",
              "      <td>6</td>\n",
              "      <td>3</td>\n",
              "      <td>7</td>\n",
              "      <td>89.3</td>\n",
              "      <td>51.3</td>\n",
              "      <td>102.2</td>\n",
              "      <td>9.6</td>\n",
              "      <td>11.4</td>\n",
              "      <td>99</td>\n",
              "      <td>1.8</td>\n",
              "      <td>0.0</td>\n",
              "      <td>0.0</td>\n",
              "    </tr>\n",
              "    <tr>\n",
              "      <th>5</th>\n",
              "      <td>8</td>\n",
              "      <td>6</td>\n",
              "      <td>8</td>\n",
              "      <td>7</td>\n",
              "      <td>92.3</td>\n",
              "      <td>85.3</td>\n",
              "      <td>488.0</td>\n",
              "      <td>14.7</td>\n",
              "      <td>22.2</td>\n",
              "      <td>29</td>\n",
              "      <td>5.4</td>\n",
              "      <td>0.0</td>\n",
              "      <td>0.0</td>\n",
              "    </tr>\n",
              "    <tr>\n",
              "      <th>6</th>\n",
              "      <td>8</td>\n",
              "      <td>6</td>\n",
              "      <td>8</td>\n",
              "      <td>1</td>\n",
              "      <td>92.3</td>\n",
              "      <td>88.9</td>\n",
              "      <td>495.6</td>\n",
              "      <td>8.5</td>\n",
              "      <td>24.1</td>\n",
              "      <td>27</td>\n",
              "      <td>3.1</td>\n",
              "      <td>0.0</td>\n",
              "      <td>0.0</td>\n",
              "    </tr>\n",
              "    <tr>\n",
              "      <th>7</th>\n",
              "      <td>8</td>\n",
              "      <td>6</td>\n",
              "      <td>8</td>\n",
              "      <td>1</td>\n",
              "      <td>91.5</td>\n",
              "      <td>145.4</td>\n",
              "      <td>608.2</td>\n",
              "      <td>10.7</td>\n",
              "      <td>8.0</td>\n",
              "      <td>86</td>\n",
              "      <td>2.2</td>\n",
              "      <td>0.0</td>\n",
              "      <td>0.0</td>\n",
              "    </tr>\n",
              "    <tr>\n",
              "      <th>8</th>\n",
              "      <td>8</td>\n",
              "      <td>6</td>\n",
              "      <td>9</td>\n",
              "      <td>2</td>\n",
              "      <td>91.0</td>\n",
              "      <td>129.5</td>\n",
              "      <td>692.6</td>\n",
              "      <td>7.0</td>\n",
              "      <td>13.1</td>\n",
              "      <td>63</td>\n",
              "      <td>5.4</td>\n",
              "      <td>0.0</td>\n",
              "      <td>0.0</td>\n",
              "    </tr>\n",
              "    <tr>\n",
              "      <th>9</th>\n",
              "      <td>7</td>\n",
              "      <td>5</td>\n",
              "      <td>9</td>\n",
              "      <td>6</td>\n",
              "      <td>92.5</td>\n",
              "      <td>88.0</td>\n",
              "      <td>698.6</td>\n",
              "      <td>7.1</td>\n",
              "      <td>22.8</td>\n",
              "      <td>40</td>\n",
              "      <td>4.0</td>\n",
              "      <td>0.0</td>\n",
              "      <td>0.0</td>\n",
              "    </tr>\n",
              "    <tr>\n",
              "      <th>10</th>\n",
              "      <td>7</td>\n",
              "      <td>5</td>\n",
              "      <td>9</td>\n",
              "      <td>6</td>\n",
              "      <td>92.5</td>\n",
              "      <td>88.0</td>\n",
              "      <td>698.6</td>\n",
              "      <td>7.1</td>\n",
              "      <td>17.8</td>\n",
              "      <td>51</td>\n",
              "      <td>7.2</td>\n",
              "      <td>0.0</td>\n",
              "      <td>0.0</td>\n",
              "    </tr>\n",
              "    <tr>\n",
              "      <th>11</th>\n",
              "      <td>7</td>\n",
              "      <td>5</td>\n",
              "      <td>9</td>\n",
              "      <td>6</td>\n",
              "      <td>92.8</td>\n",
              "      <td>73.2</td>\n",
              "      <td>713.0</td>\n",
              "      <td>22.6</td>\n",
              "      <td>19.3</td>\n",
              "      <td>38</td>\n",
              "      <td>4.0</td>\n",
              "      <td>0.0</td>\n",
              "      <td>0.0</td>\n",
              "    </tr>\n",
              "    <tr>\n",
              "      <th>12</th>\n",
              "      <td>6</td>\n",
              "      <td>5</td>\n",
              "      <td>8</td>\n",
              "      <td>5</td>\n",
              "      <td>63.5</td>\n",
              "      <td>70.8</td>\n",
              "      <td>665.3</td>\n",
              "      <td>0.8</td>\n",
              "      <td>17.0</td>\n",
              "      <td>72</td>\n",
              "      <td>6.7</td>\n",
              "      <td>0.0</td>\n",
              "      <td>0.0</td>\n",
              "    </tr>\n",
              "    <tr>\n",
              "      <th>13</th>\n",
              "      <td>6</td>\n",
              "      <td>5</td>\n",
              "      <td>9</td>\n",
              "      <td>1</td>\n",
              "      <td>90.9</td>\n",
              "      <td>126.5</td>\n",
              "      <td>686.5</td>\n",
              "      <td>7.0</td>\n",
              "      <td>21.3</td>\n",
              "      <td>42</td>\n",
              "      <td>2.2</td>\n",
              "      <td>0.0</td>\n",
              "      <td>0.0</td>\n",
              "    </tr>\n",
              "    <tr>\n",
              "      <th>14</th>\n",
              "      <td>6</td>\n",
              "      <td>5</td>\n",
              "      <td>9</td>\n",
              "      <td>3</td>\n",
              "      <td>92.9</td>\n",
              "      <td>133.3</td>\n",
              "      <td>699.6</td>\n",
              "      <td>9.2</td>\n",
              "      <td>26.4</td>\n",
              "      <td>21</td>\n",
              "      <td>4.5</td>\n",
              "      <td>0.0</td>\n",
              "      <td>0.0</td>\n",
              "    </tr>\n",
              "  </tbody>\n",
              "</table>\n",
              "</div>\n",
              "      <button class=\"colab-df-convert\" onclick=\"convertToInteractive('df-db2e3306-119c-41ec-9826-e008fc3f7058')\"\n",
              "              title=\"Convert this dataframe to an interactive table.\"\n",
              "              style=\"display:none;\">\n",
              "        \n",
              "  <svg xmlns=\"http://www.w3.org/2000/svg\" height=\"24px\"viewBox=\"0 0 24 24\"\n",
              "       width=\"24px\">\n",
              "    <path d=\"M0 0h24v24H0V0z\" fill=\"none\"/>\n",
              "    <path d=\"M18.56 5.44l.94 2.06.94-2.06 2.06-.94-2.06-.94-.94-2.06-.94 2.06-2.06.94zm-11 1L8.5 8.5l.94-2.06 2.06-.94-2.06-.94L8.5 2.5l-.94 2.06-2.06.94zm10 10l.94 2.06.94-2.06 2.06-.94-2.06-.94-.94-2.06-.94 2.06-2.06.94z\"/><path d=\"M17.41 7.96l-1.37-1.37c-.4-.4-.92-.59-1.43-.59-.52 0-1.04.2-1.43.59L10.3 9.45l-7.72 7.72c-.78.78-.78 2.05 0 2.83L4 21.41c.39.39.9.59 1.41.59.51 0 1.02-.2 1.41-.59l7.78-7.78 2.81-2.81c.8-.78.8-2.07 0-2.86zM5.41 20L4 18.59l7.72-7.72 1.47 1.35L5.41 20z\"/>\n",
              "  </svg>\n",
              "      </button>\n",
              "      \n",
              "  <style>\n",
              "    .colab-df-container {\n",
              "      display:flex;\n",
              "      flex-wrap:wrap;\n",
              "      gap: 12px;\n",
              "    }\n",
              "\n",
              "    .colab-df-convert {\n",
              "      background-color: #E8F0FE;\n",
              "      border: none;\n",
              "      border-radius: 50%;\n",
              "      cursor: pointer;\n",
              "      display: none;\n",
              "      fill: #1967D2;\n",
              "      height: 32px;\n",
              "      padding: 0 0 0 0;\n",
              "      width: 32px;\n",
              "    }\n",
              "\n",
              "    .colab-df-convert:hover {\n",
              "      background-color: #E2EBFA;\n",
              "      box-shadow: 0px 1px 2px rgba(60, 64, 67, 0.3), 0px 1px 3px 1px rgba(60, 64, 67, 0.15);\n",
              "      fill: #174EA6;\n",
              "    }\n",
              "\n",
              "    [theme=dark] .colab-df-convert {\n",
              "      background-color: #3B4455;\n",
              "      fill: #D2E3FC;\n",
              "    }\n",
              "\n",
              "    [theme=dark] .colab-df-convert:hover {\n",
              "      background-color: #434B5C;\n",
              "      box-shadow: 0px 1px 3px 1px rgba(0, 0, 0, 0.15);\n",
              "      filter: drop-shadow(0px 1px 2px rgba(0, 0, 0, 0.3));\n",
              "      fill: #FFFFFF;\n",
              "    }\n",
              "  </style>\n",
              "\n",
              "      <script>\n",
              "        const buttonEl =\n",
              "          document.querySelector('#df-db2e3306-119c-41ec-9826-e008fc3f7058 button.colab-df-convert');\n",
              "        buttonEl.style.display =\n",
              "          google.colab.kernel.accessAllowed ? 'block' : 'none';\n",
              "\n",
              "        async function convertToInteractive(key) {\n",
              "          const element = document.querySelector('#df-db2e3306-119c-41ec-9826-e008fc3f7058');\n",
              "          const dataTable =\n",
              "            await google.colab.kernel.invokeFunction('convertToInteractive',\n",
              "                                                     [key], {});\n",
              "          if (!dataTable) return;\n",
              "\n",
              "          const docLinkHtml = 'Like what you see? Visit the ' +\n",
              "            '<a target=\"_blank\" href=https://colab.research.google.com/notebooks/data_table.ipynb>data table notebook</a>'\n",
              "            + ' to learn more about interactive tables.';\n",
              "          element.innerHTML = '';\n",
              "          dataTable['output_type'] = 'display_data';\n",
              "          await google.colab.output.renderOutput(dataTable, element);\n",
              "          const docLink = document.createElement('div');\n",
              "          docLink.innerHTML = docLinkHtml;\n",
              "          element.appendChild(docLink);\n",
              "        }\n",
              "      </script>\n",
              "    </div>\n",
              "  </div>\n",
              "  "
            ]
          },
          "metadata": {},
          "execution_count": 74
        }
      ],
      "source": [
        "df.day.replace(('mon','tue','wed','thu','fri','sat','sun'),(1,2,3,4,5,6,7), inplace=True)\n",
        "df.month.replace(('jan','feb','mar','apr','may','jun','jul','aug','sep','oct','nov','dec'),(1,2,3,4,5,6,7,8,9,10,11,12), inplace=True)\n",
        "df.head(15)"
      ]
    },
    {
      "cell_type": "markdown",
      "metadata": {
        "id": "eUgdD_6yYy_E"
      },
      "source": [
        "### Distribution of area values"
      ]
    },
    {
      "cell_type": "code",
      "execution_count": null,
      "metadata": {
        "id": "A70aD3VtV9we",
        "colab": {
          "base_uri": "https://localhost:8080/"
        },
        "outputId": "0e83bc8b-9318-4e29-c33f-2accb0e7af78"
      },
      "outputs": [
        {
          "output_type": "stream",
          "name": "stdout",
          "text": [
            "The number of records with a burnt area smaller than 100m^2 is:  247\n",
            "The number of records with burnt area bigger than 100m^2 is:  270\n",
            "The number of records with burnt area between 100m^2 and 1ha is:  27\n"
          ]
        }
      ],
      "source": [
        "print('The number of records with a burnt area smaller than 100m^2 is: ',   \n",
        "      len(df[df['area'] == 0]))\n",
        "\n",
        "print('The number of records with burnt area bigger than 100m^2 is: ', \n",
        "      len(df[df['area'] != 0]))\n",
        "\n",
        "print(\"The number of records with burnt area between 100m^2 and 1ha is: \", \n",
        "      len(df.loc[(df['area'] > 0) & (df['area'] <= 1)]))"
      ]
    },
    {
      "cell_type": "code",
      "execution_count": null,
      "metadata": {
        "id": "lxHObmduZ1mF",
        "colab": {
          "base_uri": "https://localhost:8080/",
          "height": 265
        },
        "outputId": "275eab9d-d81f-417b-a4d5-20347b4b42fa"
      },
      "outputs": [
        {
          "output_type": "display_data",
          "data": {
            "text/plain": [
              "<Figure size 432x288 with 1 Axes>"
            ],
            "image/png": "[encoded data removed]"
          },
          "metadata": {
            "needs_background": "light"
          }
        }
      ],
      "source": [
        "hist_0_10 = df['area'].hist(bins=[0,1,2,3,4,5,6,7,8,9,10])"
      ]
    },
    {
      "cell_type": "code",
      "execution_count": null,
      "metadata": {
        "id": "fdBikDQ7Z383",
        "colab": {
          "base_uri": "https://localhost:8080/",
          "height": 265
        },
        "outputId": "5d7000a7-4d54-4926-e641-44aa59ec6594"
      },
      "outputs": [
        {
          "output_type": "display_data",
          "data": {
            "text/plain": [
              "<Figure size 432x288 with 1 Axes>"
            ],
            "image/png": "[encoded data removed]"
          },
          "metadata": {
            "needs_background": "light"
          }
        }
      ],
      "source": [
        "hist_0_100 = df['area'].hist(bins=[0,10,20,30,40,50,60,70,80,90,100])"
      ]
    },
    {
      "cell_type": "code",
      "execution_count": null,
      "metadata": {
        "id": "PbZ-gTdkZ6jA",
        "colab": {
          "base_uri": "https://localhost:8080/",
          "height": 265
        },
        "outputId": "19987725-f30d-40b6-db02-80f2825c6dd8"
      },
      "outputs": [
        {
          "output_type": "display_data",
          "data": {
            "text/plain": [
              "<Figure size 432x288 with 1 Axes>"
            ],
            "image/png": "[encoded data removed]"
          },
          "metadata": {
            "needs_background": "light"
          }
        }
      ],
      "source": [
        "hist_0_1000 = df['area'].hist(bins=[0,100,200,300,400,500,600,700,800,900,1000])"
      ]
    },
    {
      "cell_type": "markdown",
      "metadata": {
        "id": "sUO8emDEaE5F"
      },
      "source": [
        "### Corelation between features"
      ]
    },
    {
      "cell_type": "code",
      "execution_count": null,
      "metadata": {
        "id": "id0ySbaMZ8cF",
        "colab": {
          "base_uri": "https://localhost:8080/",
          "height": 596
        },
        "outputId": "e6d321f4-8d82-45ed-cce9-65158c067e97"
      },
      "outputs": [
        {
          "output_type": "display_data",
          "data": {
            "text/plain": [
              "<Figure size 1152x720 with 2 Axes>"
            ],
            "image/png": "[encoded data removed]"
          },
          "metadata": {
            "needs_background": "light"
          }
        }
      ],
      "source": [
        "plt.figure(figsize=(16, 10))\n",
        "corrMatrix = df.corr()\n",
        "sb.heatmap(corrMatrix, annot=True)\n",
        "plt.show()"
      ]
    },
    {
      "cell_type": "code",
      "execution_count": null,
      "metadata": {
        "id": "AIO_JqtunJ_Y",
        "colab": {
          "base_uri": "https://localhost:8080/"
        },
        "outputId": "15b1c644-5645-4d55-8e0b-798f5e45f808"
      },
      "outputs": [
        {
          "output_type": "execute_result",
          "data": {
            "text/plain": [
              "RH      -0.075519\n",
              "rain    -0.007366\n",
              "ISI      0.008258\n",
              "wind     0.012317\n",
              "day      0.023226\n",
              "FFMC     0.040122\n",
              "Y        0.044873\n",
              "DC       0.049383\n",
              "month    0.056496\n",
              "X        0.063385\n",
              "DMC      0.072994\n",
              "temp     0.097844\n",
              "area     1.000000\n",
              "Name: area, dtype: float64"
            ]
          },
          "metadata": {},
          "execution_count": 80
        }
      ],
      "source": [
        "df.corr()['area'].sort_values()"
      ]
    },
    {
      "cell_type": "markdown",
      "metadata": {
        "id": "Q8IZmpLIaXRE"
      },
      "source": [
        "### Statistical properties of the data"
      ]
    },
    {
      "cell_type": "code",
      "execution_count": null,
      "metadata": {
        "id": "itt5o9DpaKke",
        "colab": {
          "base_uri": "https://localhost:8080/",
          "height": 457
        },
        "outputId": "0d2137bf-9936-41d6-8a05-f2497ad8ecac"
      },
      "outputs": [
        {
          "output_type": "execute_result",
          "data": {
            "text/plain": [
              "       count        mean         std   min    25%     50%     75%      max\n",
              "X      517.0    4.669246    2.313778   1.0    3.0    4.00    7.00     9.00\n",
              "Y      517.0    4.299807    1.229900   2.0    4.0    4.00    5.00     9.00\n",
              "month  517.0    7.475822    2.275990   1.0    7.0    8.00    9.00    12.00\n",
              "day    517.0    4.259188    2.072929   1.0    2.0    5.00    6.00     7.00\n",
              "FFMC   517.0   90.644681    5.520111  18.7   90.2   91.60   92.90    96.20\n",
              "DMC    517.0  110.872340   64.046482   1.1   68.6  108.30  142.40   291.30\n",
              "DC     517.0  547.940039  248.066192   7.9  437.7  664.20  713.90   860.60\n",
              "ISI    517.0    9.021663    4.559477   0.0    6.5    8.40   10.80    56.10\n",
              "temp   517.0   18.889168    5.806625   2.2   15.5   19.30   22.80    33.30\n",
              "RH     517.0   44.288201   16.317469  15.0   33.0   42.00   53.00   100.00\n",
              "wind   517.0    4.017602    1.791653   0.4    2.7    4.00    4.90     9.40\n",
              "rain   517.0    0.021663    0.295959   0.0    0.0    0.00    0.00     6.40\n",
              "area   517.0   12.847292   63.655818   0.0    0.0    0.52    6.57  1090.84"
            ],
            "text/html": [
              "\n",
              "  <div id=\"df-629b0c05-8376-4fb9-8177-acabc6df4592\">\n",
              "    <div class=\"colab-df-container\">\n",
              "      <div>\n",
              "<style scoped>\n",
              "    .dataframe tbody tr th:only-of-type {\n",
              "        vertical-align: middle;\n",
              "    }\n",
              "\n",
              "    .dataframe tbody tr th {\n",
              "        vertical-align: top;\n",
              "    }\n",
              "\n",
              "    .dataframe thead th {\n",
              "        text-align: right;\n",
              "    }\n",
              "</style>\n",
              "<table border=\"1\" class=\"dataframe\">\n",
              "  <thead>\n",
              "    <tr style=\"text-align: right;\">\n",
              "      <th></th>\n",
              "      <th>count</th>\n",
              "      <th>mean</th>\n",
              "      <th>std</th>\n",
              "      <th>min</th>\n",
              "      <th>25%</th>\n",
              "      <th>50%</th>\n",
              "      <th>75%</th>\n",
              "      <th>max</th>\n",
              "    </tr>\n",
              "  </thead>\n",
              "  <tbody>\n",
              "    <tr>\n",
              "      <th>X</th>\n",
              "      <td>517.0</td>\n",
              "      <td>4.669246</td>\n",
              "      <td>2.313778</td>\n",
              "      <td>1.0</td>\n",
              "      <td>3.0</td>\n",
              "      <td>4.00</td>\n",
              "      <td>7.00</td>\n",
              "      <td>9.00</td>\n",
              "    </tr>\n",
              "    <tr>\n",
              "      <th>Y</th>\n",
              "      <td>517.0</td>\n",
              "      <td>4.299807</td>\n",
              "      <td>1.229900</td>\n",
              "      <td>2.0</td>\n",
              "      <td>4.0</td>\n",
              "      <td>4.00</td>\n",
              "      <td>5.00</td>\n",
              "      <td>9.00</td>\n",
              "    </tr>\n",
              "    <tr>\n",
              "      <th>month</th>\n",
              "      <td>517.0</td>\n",
              "      <td>7.475822</td>\n",
              "      <td>2.275990</td>\n",
              "      <td>1.0</td>\n",
              "      <td>7.0</td>\n",
              "      <td>8.00</td>\n",
              "      <td>9.00</td>\n",
              "      <td>12.00</td>\n",
              "    </tr>\n",
              "    <tr>\n",
              "      <th>day</th>\n",
              "      <td>517.0</td>\n",
              "      <td>4.259188</td>\n",
              "      <td>2.072929</td>\n",
              "      <td>1.0</td>\n",
              "      <td>2.0</td>\n",
              "      <td>5.00</td>\n",
              "      <td>6.00</td>\n",
              "      <td>7.00</td>\n",
              "    </tr>\n",
              "    <tr>\n",
              "      <th>FFMC</th>\n",
              "      <td>517.0</td>\n",
              "      <td>90.644681</td>\n",
              "      <td>5.520111</td>\n",
              "      <td>18.7</td>\n",
              "      <td>90.2</td>\n",
              "      <td>91.60</td>\n",
              "      <td>92.90</td>\n",
              "      <td>96.20</td>\n",
              "    </tr>\n",
              "    <tr>\n",
              "      <th>DMC</th>\n",
              "      <td>517.0</td>\n",
              "      <td>110.872340</td>\n",
              "      <td>64.046482</td>\n",
              "      <td>1.1</td>\n",
              "      <td>68.6</td>\n",
              "      <td>108.30</td>\n",
              "      <td>142.40</td>\n",
              "      <td>291.30</td>\n",
              "    </tr>\n",
              "    <tr>\n",
              "      <th>DC</th>\n",
              "      <td>517.0</td>\n",
              "      <td>547.940039</td>\n",
              "      <td>248.066192</td>\n",
              "      <td>7.9</td>\n",
              "      <td>437.7</td>\n",
              "      <td>664.20</td>\n",
              "      <td>713.90</td>\n",
              "      <td>860.60</td>\n",
              "    </tr>\n",
              "    <tr>\n",
              "      <th>ISI</th>\n",
              "      <td>517.0</td>\n",
              "      <td>9.021663</td>\n",
              "      <td>4.559477</td>\n",
              "      <td>0.0</td>\n",
              "      <td>6.5</td>\n",
              "      <td>8.40</td>\n",
              "      <td>10.80</td>\n",
              "      <td>56.10</td>\n",
              "    </tr>\n",
              "    <tr>\n",
              "      <th>temp</th>\n",
              "      <td>517.0</td>\n",
              "      <td>18.889168</td>\n",
              "      <td>5.806625</td>\n",
              "      <td>2.2</td>\n",
              "      <td>15.5</td>\n",
              "      <td>19.30</td>\n",
              "      <td>22.80</td>\n",
              "      <td>33.30</td>\n",
              "    </tr>\n",
              "    <tr>\n",
              "      <th>RH</th>\n",
              "      <td>517.0</td>\n",
              "      <td>44.288201</td>\n",
              "      <td>16.317469</td>\n",
              "      <td>15.0</td>\n",
              "      <td>33.0</td>\n",
              "      <td>42.00</td>\n",
              "      <td>53.00</td>\n",
              "      <td>100.00</td>\n",
              "    </tr>\n",
              "    <tr>\n",
              "      <th>wind</th>\n",
              "      <td>517.0</td>\n",
              "      <td>4.017602</td>\n",
              "      <td>1.791653</td>\n",
              "      <td>0.4</td>\n",
              "      <td>2.7</td>\n",
              "      <td>4.00</td>\n",
              "      <td>4.90</td>\n",
              "      <td>9.40</td>\n",
              "    </tr>\n",
              "    <tr>\n",
              "      <th>rain</th>\n",
              "      <td>517.0</td>\n",
              "      <td>0.021663</td>\n",
              "      <td>0.295959</td>\n",
              "      <td>0.0</td>\n",
              "      <td>0.0</td>\n",
              "      <td>0.00</td>\n",
              "      <td>0.00</td>\n",
              "      <td>6.40</td>\n",
              "    </tr>\n",
              "    <tr>\n",
              "      <th>area</th>\n",
              "      <td>517.0</td>\n",
              "      <td>12.847292</td>\n",
              "      <td>63.655818</td>\n",
              "      <td>0.0</td>\n",
              "      <td>0.0</td>\n",
              "      <td>0.52</td>\n",
              "      <td>6.57</td>\n",
              "      <td>1090.84</td>\n",
              "    </tr>\n",
              "  </tbody>\n",
              "</table>\n",
              "</div>\n",
              "      <button class=\"colab-df-convert\" onclick=\"convertToInteractive('df-629b0c05-8376-4fb9-8177-acabc6df4592')\"\n",
              "              title=\"Convert this dataframe to an interactive table.\"\n",
              "              style=\"display:none;\">\n",
              "        \n",
              "  <svg xmlns=\"http://www.w3.org/2000/svg\" height=\"24px\"viewBox=\"0 0 24 24\"\n",
              "       width=\"24px\">\n",
              "    <path d=\"M0 0h24v24H0V0z\" fill=\"none\"/>\n",
              "    <path d=\"M18.56 5.44l.94 2.06.94-2.06 2.06-.94-2.06-.94-.94-2.06-.94 2.06-2.06.94zm-11 1L8.5 8.5l.94-2.06 2.06-.94-2.06-.94L8.5 2.5l-.94 2.06-2.06.94zm10 10l.94 2.06.94-2.06 2.06-.94-2.06-.94-.94-2.06-.94 2.06-2.06.94z\"/><path d=\"M17.41 7.96l-1.37-1.37c-.4-.4-.92-.59-1.43-.59-.52 0-1.04.2-1.43.59L10.3 9.45l-7.72 7.72c-.78.78-.78 2.05 0 2.83L4 21.41c.39.39.9.59 1.41.59.51 0 1.02-.2 1.41-.59l7.78-7.78 2.81-2.81c.8-.78.8-2.07 0-2.86zM5.41 20L4 18.59l7.72-7.72 1.47 1.35L5.41 20z\"/>\n",
              "  </svg>\n",
              "      </button>\n",
              "      \n",
              "  <style>\n",
              "    .colab-df-container {\n",
              "      display:flex;\n",
              "      flex-wrap:wrap;\n",
              "      gap: 12px;\n",
              "    }\n",
              "\n",
              "    .colab-df-convert {\n",
              "      background-color: #E8F0FE;\n",
              "      border: none;\n",
              "      border-radius: 50%;\n",
              "      cursor: pointer;\n",
              "      display: none;\n",
              "      fill: #1967D2;\n",
              "      height: 32px;\n",
              "      padding: 0 0 0 0;\n",
              "      width: 32px;\n",
              "    }\n",
              "\n",
              "    .colab-df-convert:hover {\n",
              "      background-color: #E2EBFA;\n",
              "      box-shadow: 0px 1px 2px rgba(60, 64, 67, 0.3), 0px 1px 3px 1px rgba(60, 64, 67, 0.15);\n",
              "      fill: #174EA6;\n",
              "    }\n",
              "\n",
              "    [theme=dark] .colab-df-convert {\n",
              "      background-color: #3B4455;\n",
              "      fill: #D2E3FC;\n",
              "    }\n",
              "\n",
              "    [theme=dark] .colab-df-convert:hover {\n",
              "      background-color: #434B5C;\n",
              "      box-shadow: 0px 1px 3px 1px rgba(0, 0, 0, 0.15);\n",
              "      filter: drop-shadow(0px 1px 2px rgba(0, 0, 0, 0.3));\n",
              "      fill: #FFFFFF;\n",
              "    }\n",
              "  </style>\n",
              "\n",
              "      <script>\n",
              "        const buttonEl =\n",
              "          document.querySelector('#df-629b0c05-8376-4fb9-8177-acabc6df4592 button.colab-df-convert');\n",
              "        buttonEl.style.display =\n",
              "          google.colab.kernel.accessAllowed ? 'block' : 'none';\n",
              "\n",
              "        async function convertToInteractive(key) {\n",
              "          const element = document.querySelector('#df-629b0c05-8376-4fb9-8177-acabc6df4592');\n",
              "          const dataTable =\n",
              "            await google.colab.kernel.invokeFunction('convertToInteractive',\n",
              "                                                     [key], {});\n",
              "          if (!dataTable) return;\n",
              "\n",
              "          const docLinkHtml = 'Like what you see? Visit the ' +\n",
              "            '<a target=\"_blank\" href=https://colab.research.google.com/notebooks/data_table.ipynb>data table notebook</a>'\n",
              "            + ' to learn more about interactive tables.';\n",
              "          element.innerHTML = '';\n",
              "          dataTable['output_type'] = 'display_data';\n",
              "          await google.colab.output.renderOutput(dataTable, element);\n",
              "          const docLink = document.createElement('div');\n",
              "          docLink.innerHTML = docLinkHtml;\n",
              "          element.appendChild(docLink);\n",
              "        }\n",
              "      </script>\n",
              "    </div>\n",
              "  </div>\n",
              "  "
            ]
          },
          "metadata": {},
          "execution_count": 81
        }
      ],
      "source": [
        "df.describe().T"
      ]
    },
    {
      "cell_type": "markdown",
      "metadata": {
        "id": "_CkvUWd_rULj"
      },
      "source": [
        "### Log transformation to the area values"
      ]
    },
    {
      "cell_type": "code",
      "execution_count": null,
      "metadata": {
        "id": "e3Qx3tsjrZAl"
      },
      "outputs": [],
      "source": [
        "df[['area']] = np.log(df[['area']] + 1)"
      ]
    },
    {
      "cell_type": "markdown",
      "metadata": {
        "id": "L6VDoswmp4B8"
      },
      "source": [
        "### Split the data in training, validation and test set"
      ]
    },
    {
      "cell_type": "code",
      "execution_count": null,
      "metadata": {
        "id": "LPeBlcY9pvSe"
      },
      "outputs": [],
      "source": [
        "#To use all features:\n",
        "X, Y = df[['X', 'Y', 'month', 'day', 'FFMC', 'DMC', 'DC', 'ISI', 'temp', 'RH', 'wind', 'rain']], df[['area']]\n",
        "Xtrainval, Xtest, Ytrainval, Ytest = train_test_split(X, Y, test_size=0.20, random_state=42)\n",
        "Xtrain, Xval, Ytrain, Yval = train_test_split(Xtrainval, Ytrainval, test_size=0.20, random_state=42)\n",
        "\n",
        "#To use temperature, rain, relative humidity and wind speed features:\n",
        "#X, Y = df[['temp', 'RH', 'wind', 'rain']], df[['area']]\n",
        "#Xtrainval, Xtest, Ytrainval, Ytest = train_test_split(X, Y, test_size=0.20, random_state=42)\n",
        "#Xtrain, Xval, Ytrain, Yval = train_test_split(Xtrainval, Ytrainval, test_size=0.20, random_state=42)\n"
      ]
    },
    {
      "cell_type": "markdown",
      "metadata": {
        "id": "77LERmKCPmUq"
      },
      "source": [
        "## Scorer and accuracy functions"
      ]
    },
    {
      "cell_type": "code",
      "execution_count": null,
      "metadata": {
        "id": "WsOzh8ZzPua8"
      },
      "outputs": [],
      "source": [
        "#Helper function to compute MSE ('score')\n",
        "def scorermse(model, X, y):\n",
        "  y_pred = model.predict(X)\n",
        "  score = mean_squared_error(y,y_pred)\n",
        "  return score\n",
        "\n",
        "#Helper function to compute MAE ('score')\n",
        "def scorermae(model, X, y):\n",
        "  y_pred = model.predict(X)\n",
        "  score = mae(y,y_pred)\n",
        "  return score\n",
        "\n",
        "\n",
        "#Accuracy function used in the test set\n",
        "# % of correct predictions with a given absolute/relative error.\n",
        "# err is the absolute error permitted in hectares (1 or 2 ha is what is used in the paper)\n",
        "# OR the relative error permitted in %\n",
        "def scoreaccuracy(model, x, y, err_type, err):\n",
        "    y_pred = model.predict(x)\n",
        "    # Inverse log transform\n",
        "    y_pred = np.exp(y_pred) - 1\n",
        "    y = np.exp(y) - 1\n",
        "    # Replacing negative area elements by 0\n",
        "    y_pred[y_pred < 0] = 0\n",
        "    y[y < 0] = 0\n",
        "    # Make y_pred the same shape as y\n",
        "    y_pred = y_pred.reshape(-1, 1)\n",
        "    abs_err_vec = np.abs(np.subtract(y, y_pred))\n",
        "    if err_type == \"abs_err\":\n",
        "        score = (abs_err_vec < err).sum()/np.size(abs_err_vec)\n",
        "    else:\n",
        "        # Cannot compute relative error around 0, so we'll take 1/100 hectare abs error as good, as they do in the paper\n",
        "        # Then we check all other elements relative error\n",
        "        score = (abs_err_vec[y == 0] < 1/100).sum() + (np.divide(abs_err_vec[y != 0], y[y != 0]) < err/100).sum()\n",
        "        score = score / np.size(abs_err_vec)\n",
        "        print('Hello: ')\n",
        "        print(score)\n",
        "\n",
        "\n",
        "    return float(score)\n"
      ]
    },
    {
      "cell_type": "markdown",
      "metadata": {
        "id": "pXuN73fKq-MY"
      },
      "source": [
        "## Linear Regression"
      ]
    },
    {
      "cell_type": "code",
      "execution_count": null,
      "metadata": {
        "id": "m0IvZKO2rOGB",
        "colab": {
          "base_uri": "https://localhost:8080/"
        },
        "outputId": "4905d957-0675-48ee-f962-e812867b5325"
      },
      "outputs": [
        {
          "output_type": "stream",
          "name": "stdout",
          "text": [
            "****************************************************************\n",
            "MAE:\n",
            "Validation MAE for 10-fold CV folds are: [1.05143858 1.27429838 1.04941532 0.98789492 1.57435524 1.22264324\n",
            " 1.15616291 1.34887101 1.00455172 1.05349901]\n",
            "----------------------------------------------------------------\n",
            "Average validation MAE for for 10-fold CV folds is:  1.17\n",
            "Average training MAE for for 10-fold CV folds is:  1.11\n",
            "****************************************************************\n",
            "MSE:\n",
            "Validation MSE for 10-fold CV folds are: [1.52953939 2.28468954 1.67800295 1.46626449 5.9209127  2.06357975\n",
            " 1.80402675 2.87020985 1.36098432 1.69148343]\n",
            "---------------------------------------------------------------\n",
            "Average validation MSE for for 10-fold CV folds is:  2.27\n",
            "Average training MSE for for 10-fold CV folds is:  1.82\n",
            "***************************************************************\n",
            "Execution time: 0.19830846786499023\n"
          ]
        }
      ],
      "source": [
        "def kfold(reg,X,Y,cv,train_score):\n",
        "  cv_resultsmae = cross_validate(reg, X, Y, scoring=scorermae, cv = 10, return_train_score = train_score)\n",
        "  cv_resultsmse = cross_validate(reg, X, Y, scoring=scorermse, cv = 10, return_train_score = train_score)\n",
        "  \n",
        "  # Get train and validation error\n",
        "  errors_trainmae = cv_resultsmae['train_score']\n",
        "  errors_valmae = cv_resultsmae['test_score']\n",
        "  errors_trainmse = cv_resultsmse['train_score']\n",
        "  errors_valmse = cv_resultsmse['test_score']\n",
        "\n",
        "  err_trainmae = np.mean(errors_trainmae)\n",
        "  err_valmae = np.mean(errors_valmae)\n",
        "  err_trainmse = np.mean(errors_trainmse)\n",
        "  err_valmse = np.mean(errors_valmse)\n",
        "\n",
        "\n",
        "  print('****************************************************************\\nMAE:')\n",
        "  print(f\"Validation MAE for 10-fold CV folds are: {errors_valmae}\")\n",
        "  print('----------------------------------------------------------------')\n",
        "  print(f\"Average validation MAE for for 10-fold CV folds is: {err_valmae: .2f}\")\n",
        "  print(f\"Average training MAE for for 10-fold CV folds is: {err_trainmae: .2f}\")\n",
        "  print('****************************************************************\\nMSE:')\n",
        "  print(f\"Validation MSE for 10-fold CV folds are: {errors_valmse}\")\n",
        "  print('---------------------------------------------------------------')\n",
        "  print(f\"Average validation MSE for for 10-fold CV folds is: {err_valmse: .2f}\")\n",
        "  print(f\"Average training MSE for for 10-fold CV folds is: {err_trainmse: .2f}\")\n",
        "  print('***************************************************************')\n",
        "  \n",
        "\n",
        " \n",
        "  return err_valmse, np.std(errors_trainmse)\n",
        "\n",
        "# Create the linear regression object\n",
        "start=time.time()\n",
        "lin_reg = LinearRegression(fit_intercept=True) \n",
        "kfold(lin_reg, Xtrainval, Ytrainval, 10, True)\n",
        "end = time.time()\n",
        "print(\"Execution time: \" + str(end-start))"
      ]
    },
    {
      "cell_type": "markdown",
      "metadata": {
        "id": "zLtKZwvqyjpT"
      },
      "source": [
        "## Huber Regression"
      ]
    },
    {
      "cell_type": "code",
      "execution_count": null,
      "metadata": {
        "id": "ZI6F4KbcDutx",
        "colab": {
          "base_uri": "https://localhost:8080/"
        },
        "outputId": "5378826f-71e9-49f3-86ea-c00c10a6a750"
      },
      "outputs": [
        {
          "output_type": "stream",
          "name": "stdout",
          "text": [
            "****************************************************************\n",
            "MAE:\n",
            "Validation MAE for 10-fold CV folds are: [1.04245288 1.22226462 1.01739656 0.95507508 1.49970365 1.16501013\n",
            " 1.10027476 1.30668204 0.94503654 0.98584187]\n",
            "----------------------------------------------------------------\n",
            "Average validation MAE for for 10-fold CV folds is:  1.12\n",
            "Average training MAE for for 10-fold CV folds is:  1.07\n",
            "****************************************************************\n",
            "MSE:\n",
            "Validation MSE for 10-fold CV folds are: [1.60117859 2.33156201 1.69072188 1.51385547 4.67019858 2.12831369\n",
            " 1.76366158 3.04784141 1.28676668 1.73423938]\n",
            "---------------------------------------------------------------\n",
            "Average validation MSE for for 10-fold CV folds is:  2.18\n",
            "Average training MSE for for 10-fold CV folds is:  1.90\n",
            "***************************************************************\n"
          ]
        },
        {
          "output_type": "execute_result",
          "data": {
            "text/plain": [
              "(2.1768339290977243, 0.056273959066812575)"
            ]
          },
          "metadata": {},
          "execution_count": 86
        }
      ],
      "source": [
        "# Create the huber regression object\n",
        "hub_reg = HuberRegressor(fit_intercept=True, max_iter = 10000) \n",
        "kfold(hub_reg, Xtrainval, Ytrainval.values.ravel(), 10, True)"
      ]
    },
    {
      "cell_type": "markdown",
      "metadata": {
        "id": "ZeGrAcax29dZ"
      },
      "source": [
        "## Ridge Regression"
      ]
    },
    {
      "cell_type": "code",
      "execution_count": null,
      "metadata": {
        "id": "BLMwXH1aHMx7",
        "colab": {
          "base_uri": "https://localhost:8080/"
        },
        "outputId": "212d1f99-7f35-4f84-88ac-51092599b90e"
      },
      "outputs": [
        {
          "output_type": "stream",
          "name": "stdout",
          "text": [
            "Best value of alpha using MSE:  0.001\n",
            "Average validation MSE for 10-fold CV is:  2.266618781049595\n",
            "Best value of alpha using MAE:  0.001\n",
            "Average validation MAE for 10-fold CV is:  1.172298484018816\n"
          ]
        }
      ],
      "source": [
        "alpha_vals = np.linspace(0.001, 10, 50)\n",
        "rid_reg_mse = RidgeCV(alphas = alpha_vals, fit_intercept=True, scoring=scorermse, cv=10)\n",
        "rid_reg_mae = RidgeCV(alphas = alpha_vals, fit_intercept=True, scoring=scorermae, cv=10)\n",
        "rid_reg_mse.fit(Xtrainval, Ytrainval)\n",
        "rid_reg_mae.fit(Xtrainval, Ytrainval)\n",
        "\n",
        "print(\"Best value of alpha using MSE: \", rid_reg_mse.alpha_)\n",
        "print(\"Average validation MSE for 10-fold CV is: \", rid_reg_mse.best_score_)\n",
        "print(\"Best value of alpha using MAE: \", rid_reg_mae.alpha_)\n",
        "print(\"Average validation MAE for 10-fold CV is: \", rid_reg_mae.best_score_)"
      ]
    },
    {
      "cell_type": "markdown",
      "metadata": {
        "id": "adyem8D7_3G-"
      },
      "source": [
        "## Lasso Regression"
      ]
    },
    {
      "cell_type": "code",
      "execution_count": null,
      "metadata": {
        "id": "O0C54BFDOYX-",
        "colab": {
          "base_uri": "https://localhost:8080/"
        },
        "outputId": "144d5e09-9701-43ba-f901-3e72a2487478"
      },
      "outputs": [
        {
          "output_type": "stream",
          "name": "stdout",
          "text": [
            "Best value of alpha using MSE:  1.4294285714285715\n",
            "Average validation MSE for 10-fold CV is:  1.887975667092689\n"
          ]
        }
      ],
      "source": [
        "alpha_vals = np.linspace(0.001, 10, 50)\n",
        "lasso_reg_mse = LassoCV(alphas = alpha_vals, fit_intercept=True, cv=10)\n",
        "lasso_reg_mse.fit(Xtrainval, Ytrainval.values.ravel())\n",
        "\n",
        "print(\"Best value of alpha using MSE: \", lasso_reg_mse.alpha_)\n",
        "print(\"Average validation MSE for 10-fold CV is: \", min(lasso_reg_mse.mse_path_.mean(1)))\n",
        "#There is no scoring parameter in LassoCV to use MAE, it uses MSE as default"
      ]
    },
    {
      "cell_type": "markdown",
      "metadata": {
        "id": "DGbs07RoXpcJ"
      },
      "source": [
        "## Polinomial Regression"
      ]
    },
    {
      "cell_type": "code",
      "execution_count": null,
      "metadata": {
        "id": "hKGJH2HFXsuk",
        "colab": {
          "base_uri": "https://localhost:8080/"
        },
        "outputId": "b1b69d00-ff5c-4e3f-a1ea-7b0ca45edc7e"
      },
      "outputs": [
        {
          "output_type": "stream",
          "name": "stdout",
          "text": [
            "Polinomial regression with degree 1:\n",
            "\n",
            "****************************************************************\n",
            "MAE:\n",
            "Validation MAE for 10-fold CV folds are: [1.05143858 1.27429838 1.04941532 0.98789492 1.57435524 1.22264324\n",
            " 1.15616291 1.34887101 1.00455172 1.05349901]\n",
            "----------------------------------------------------------------\n",
            "Average validation MAE for for 10-fold CV folds is:  1.17\n",
            "Average training MAE for for 10-fold CV folds is:  1.11\n",
            "****************************************************************\n",
            "MSE:\n",
            "Validation MSE for 10-fold CV folds are: [1.52953939 2.28468954 1.67800295 1.46626449 5.9209127  2.06357975\n",
            " 1.80402675 2.87020985 1.36098432 1.69148343]\n",
            "---------------------------------------------------------------\n",
            "Average validation MSE for for 10-fold CV folds is:  2.27\n",
            "Average training MSE for for 10-fold CV folds is:  1.82\n",
            "***************************************************************\n",
            "\n",
            "\n",
            "\n",
            "\n",
            "Polinomial regression with degree 2:\n",
            "\n",
            "****************************************************************\n",
            "MAE:\n",
            "Validation MAE for 10-fold CV folds are: [1.30458714 2.18652489 1.2544575  1.62538493 2.00363432 1.41813113\n",
            " 1.27063053 1.90802099 1.13942668 1.1480249 ]\n",
            "----------------------------------------------------------------\n",
            "Average validation MAE for for 10-fold CV folds is:  1.53\n",
            "Average training MAE for for 10-fold CV folds is:  1.13\n",
            "****************************************************************\n",
            "MSE:\n",
            "Validation MSE for 10-fold CV folds are: [ 2.36989388  7.03340475  2.6081339   4.01295302 15.33001398  3.37993943\n",
            "  2.75554255 16.44306877  1.97938465  2.20446054]\n",
            "---------------------------------------------------------------\n",
            "Average validation MSE for for 10-fold CV folds is:  5.81\n",
            "Average training MSE for for 10-fold CV folds is:  2.11\n",
            "***************************************************************\n",
            "\n",
            "\n",
            "\n",
            "\n",
            "Polinomial regression with degree 3:\n",
            "\n",
            "****************************************************************\n",
            "MAE:\n",
            "Validation MAE for 10-fold CV folds are: [ 82.04082552 136.81487887  64.58674804  99.27921038 132.89779575\n",
            "  37.06315526 113.56665594 475.70713649  42.46832644  56.77327572]\n",
            "----------------------------------------------------------------\n",
            "Average validation MAE for for 10-fold CV folds is:  124.12\n",
            "Average training MAE for for 10-fold CV folds is:  0.01\n",
            "****************************************************************\n",
            "MSE:\n",
            "Validation MSE for 10-fold CV folds are: [1.21278982e+05 9.65568813e+04 3.12411962e+04 2.43257202e+04\n",
            " 9.10565535e+04 7.73469935e+03 2.99850932e+04 7.06400943e+06\n",
            " 5.84618696e+03 5.39500884e+04]\n",
            "---------------------------------------------------------------\n",
            "Average validation MSE for for 10-fold CV folds is:  752598.48\n",
            "Average training MSE for for 10-fold CV folds is:  0.01\n",
            "***************************************************************\n",
            "\n",
            "\n",
            "\n",
            "\n",
            "Polinomial regression with degree 4:\n",
            "\n",
            "****************************************************************\n",
            "MAE:\n",
            "Validation MAE for 10-fold CV folds are: [   7.82114086   17.40168313   14.27270004   87.42068678   11.83724495\n",
            "   58.53740003   14.51161861 1585.27146339   16.92689981    9.79721197]\n",
            "----------------------------------------------------------------\n",
            "Average validation MAE for for 10-fold CV folds is:  182.38\n",
            "Average training MAE for for 10-fold CV folds is:  0.02\n",
            "****************************************************************\n",
            "MSE:\n",
            "Validation MSE for 10-fold CV folds are: [2.13200645e+02 9.80653596e+02 5.63020095e+02 1.86533851e+04\n",
            " 3.56260703e+02 1.68216429e+04 5.86888709e+02 3.47681150e+07\n",
            " 2.71002774e+03 3.54720751e+02]\n",
            "---------------------------------------------------------------\n",
            "Average validation MSE for for 10-fold CV folds is:  3480935.48\n",
            "Average training MSE for for 10-fold CV folds is:  0.01\n",
            "***************************************************************\n",
            "\n",
            "\n",
            "\n",
            "\n",
            "Polinomial regression with degree 5:\n",
            "\n",
            "****************************************************************\n",
            "MAE:\n",
            "Validation MAE for 10-fold CV folds are: [14.96309543 18.24417528 13.65594997 10.76088084 14.88751727  7.89093861\n",
            " 14.00920864  8.89465016  8.60038378  8.02983438]\n",
            "----------------------------------------------------------------\n",
            "Average validation MAE for for 10-fold CV folds is:  11.99\n",
            "Average training MAE for for 10-fold CV folds is:  0.01\n",
            "****************************************************************\n",
            "MSE:\n",
            "Validation MSE for 10-fold CV folds are: [2925.14230802  863.45990986  806.63969468  323.65664043 1350.36426267\n",
            "  282.32180649  501.1521827   274.21824567  368.81894177  215.97628926]\n",
            "---------------------------------------------------------------\n",
            "Average validation MSE for for 10-fold CV folds is:  791.18\n",
            "Average training MSE for for 10-fold CV folds is:  0.01\n",
            "***************************************************************\n",
            "\n",
            "\n",
            "\n",
            "\n"
          ]
        }
      ],
      "source": [
        "for i in [1,2,3,4,5]:\n",
        "  poly = PolynomialFeatures(degree=i)\n",
        "\n",
        "  Xtrainval_poly = poly.fit_transform(Xtrainval)\n",
        "\n",
        "  poly_reg=LinearRegression(fit_intercept = True)\n",
        "  print(\"Polinomial regression with degree \", i, \":\\n\", sep = \"\")\n",
        "  kfold(poly_reg, Xtrainval_poly, Ytrainval,10,True)\n",
        "  print(\"\\n\\n\\n\")"
      ]
    },
    {
      "cell_type": "markdown",
      "metadata": {
        "id": "Q9IE-P4pZVZ5"
      },
      "source": [
        "## Decision Tree"
      ]
    },
    {
      "cell_type": "markdown",
      "metadata": {
        "id": "kn6BxTcJ6tMZ"
      },
      "source": [
        "### Naive Pruning (Minimum data points x leaf)"
      ]
    },
    {
      "cell_type": "code",
      "execution_count": null,
      "metadata": {
        "id": "Ra05NdXqrK2r",
        "colab": {
          "base_uri": "https://localhost:8080/",
          "height": 502
        },
        "outputId": "e19d842a-8d40-42d4-ffe1-a8361370c143"
      },
      "outputs": [
        {
          "output_type": "stream",
          "name": "stdout",
          "text": [
            "The min samples x leaf that produces the smallest MAE is: 164\n",
            "The lowest 10-fold cv MAE is: 1.0804119858640953\n"
          ]
        },
        {
          "output_type": "display_data",
          "data": {
            "text/plain": [
              "<Figure size 360x216 with 1 Axes>"
            ],
            "image/png": "[encoded data removed]"
          },
          "metadata": {
            "needs_background": "light"
          }
        },
        {
          "output_type": "stream",
          "name": "stdout",
          "text": [
            "The min samples x leaf that produces the smallest MSE is: 75\n",
            "The lowest 10-fold cv MSE is: 1.827855323171557\n"
          ]
        },
        {
          "output_type": "display_data",
          "data": {
            "text/plain": [
              "<Figure size 360x216 with 1 Axes>"
            ],
            "image/png": "[encoded data removed]"
          },
          "metadata": {
            "needs_background": "light"
          }
        }
      ],
      "source": [
        "# Loop to check for lowest val error as a function of min_samples\n",
        "min_samp_leaf_vec = np.arange(1, 200)\n",
        "err_val_vec = []\n",
        "\n",
        "for i in min_samp_leaf_vec:\n",
        "    # Create the DT regression object\n",
        "    dt_reg = DecisionTreeRegressor(criterion='absolute_error', min_samples_leaf=i)\n",
        "\n",
        "    # Use 10-fold cross validation\n",
        "    cv_results = cross_validate(dt_reg, Xtrainval, Ytrainval, scoring=scorermae, cv=10, return_train_score=True)\n",
        "\n",
        "    # Get train and validation error\n",
        "    errors_train = cv_results['train_score']\n",
        "    errors_val = cv_results['test_score']\n",
        "\n",
        "    err_train = np.mean(errors_train)\n",
        "    err_val = np.mean(errors_val)\n",
        "\n",
        "    err_val_vec.append(err_val)\n",
        "\n",
        "# Finding the minimum\n",
        "print(\"The min samples x leaf that produces the smallest MAE is:\", min_samp_leaf_vec[np.argmin(err_val_vec)])\n",
        "print(\"The lowest 10-fold cv MAE is:\", np.min(err_val_vec))\n",
        "\n",
        "# Plotting the results\n",
        "plt.figure(figsize=(5, 3))\n",
        "plt.plot(min_samp_leaf_vec, err_val_vec, label=\"DT (Trained with A Loss)\")\n",
        "\n",
        "plt.legend(loc='upper right')\n",
        "plt.xlabel('Minimum samples x leaf')\n",
        "plt.ylabel('Validation MAE')\n",
        "plt.tight_layout()\n",
        "plt.show()\n",
        "\n",
        "# The same but for MSE\n",
        "err_val_vec = []\n",
        "for i in min_samp_leaf_vec:\n",
        "    # Create the DT regression object\n",
        "    dt_reg = DecisionTreeRegressor(criterion='squared_error', min_samples_leaf=i)\n",
        "\n",
        "    # Use 10-fold cross validation\n",
        "    cv_results = cross_validate(dt_reg, Xtrainval, Ytrainval, scoring=scorermse, cv=10, return_train_score=True)\n",
        "\n",
        "    # Get train and validation error\n",
        "    errors_train = cv_results['train_score']\n",
        "    errors_val = cv_results['test_score']\n",
        "\n",
        "    err_train = np.mean(errors_train)\n",
        "    err_val = np.mean(errors_val)\n",
        "\n",
        "    err_val_vec.append(err_val)\n",
        "\n",
        "# Finding the minimum\n",
        "print(\"The min samples x leaf that produces the smallest MSE is:\", min_samp_leaf_vec[np.argmin(err_val_vec)])\n",
        "print(\"The lowest 10-fold cv MSE is:\", np.min(err_val_vec))\n",
        "\n",
        "# Plotting the results\n",
        "plt.figure(figsize=(5, 3))\n",
        "plt.plot(min_samp_leaf_vec, err_val_vec, label=\"DT (Trained with S Loss)\")\n",
        "\n",
        "plt.legend(loc='upper right')\n",
        "plt.xlabel('Minimum samples x leaf')\n",
        "plt.ylabel('Validation MSE')\n",
        "plt.tight_layout()\n",
        "plt.show()\n",
        "\n"
      ]
    },
    {
      "cell_type": "markdown",
      "metadata": {
        "id": "hofgT76N6x8s"
      },
      "source": [
        "### Cost-Complexity pruning"
      ]
    },
    {
      "cell_type": "code",
      "execution_count": null,
      "metadata": {
        "id": "fxc1PpW465Wz",
        "colab": {
          "base_uri": "https://localhost:8080/",
          "height": 502
        },
        "outputId": "0d3cbed4-b4d0-41b4-f13c-85f67567ff56"
      },
      "outputs": [
        {
          "output_type": "stream",
          "name": "stdout",
          "text": [
            "The a param that produces the smallest MSE is: 0.05810810810810812\n",
            "The lowest 10-fold cv MSE is: 1.8939215693629663\n"
          ]
        },
        {
          "output_type": "display_data",
          "data": {
            "text/plain": [
              "<Figure size 360x216 with 1 Axes>"
            ],
            "image/png": "[encoded data removed]"
          },
          "metadata": {
            "needs_background": "light"
          }
        },
        {
          "output_type": "stream",
          "name": "stdout",
          "text": [
            "The a param that produces the smallest MAE is: 0.031621621621621625\n",
            "The lowest 10-fold cv MAE is: 1.096108069924079\n"
          ]
        },
        {
          "output_type": "display_data",
          "data": {
            "text/plain": [
              "<Figure size 360x216 with 1 Axes>"
            ],
            "image/png": "[encoded data removed]"
          },
          "metadata": {
            "needs_background": "light"
          }
        }
      ],
      "source": [
        "# MSE\n",
        "err_val_vec = []\n",
        "a_vec = np.linspace(0.01, 0.1, 1000)\n",
        "\n",
        "for a in a_vec:\n",
        "    # Create the DT regression object\n",
        "    dt_reg = DecisionTreeRegressor(criterion='squared_error', ccp_alpha=a)\n",
        "\n",
        "    # Use 10-fold cross validation\n",
        "    cv_results = cross_validate(dt_reg, Xtrainval, Ytrainval, scoring=scorermse, cv=10, return_train_score=True)\n",
        "\n",
        "    # Get train and validation error\n",
        "    errors_train = cv_results['train_score']\n",
        "    errors_val = cv_results['test_score']\n",
        "\n",
        "    err_train = np.mean(errors_train)\n",
        "    err_val = np.mean(errors_val)\n",
        "\n",
        "    err_val_vec.append(err_val)\n",
        "\n",
        "# Finding the minimum\n",
        "print(\"The a param that produces the smallest MSE is:\", a_vec[np.argmin(err_val_vec)])\n",
        "print(\"The lowest 10-fold cv MSE is:\", np.min(err_val_vec))\n",
        "\n",
        "# Plotting the results\n",
        "plt.figure(figsize=(5, 3))\n",
        "plt.plot(a_vec, err_val_vec, label=\"DT (Trained with S Loss)\")\n",
        "\n",
        "plt.legend(loc='upper right')\n",
        "plt.xlabel('ccp alpha parameter')\n",
        "plt.ylabel('Validation MSE')\n",
        "plt.tight_layout()\n",
        "plt.show()\n",
        "\n",
        "# MAE\n",
        "err_val_vec = []\n",
        "\n",
        "for a in a_vec:\n",
        "    # Create the DT regression object\n",
        "    dt_reg = DecisionTreeRegressor(criterion='absolute_error', ccp_alpha=a)\n",
        "\n",
        "    # Use 10-fold cross validation\n",
        "    cv_results = cross_validate(dt_reg, Xtrainval, Ytrainval, scoring=scorermae, cv=10, return_train_score=True)\n",
        "\n",
        "    # Get train and validation error\n",
        "    errors_train = cv_results['train_score']\n",
        "    errors_val = cv_results['test_score']\n",
        "\n",
        "    err_train = np.mean(errors_train)\n",
        "    err_val = np.mean(errors_val)\n",
        "\n",
        "    err_val_vec.append(err_val)\n",
        "\n",
        "# Finding the minimum\n",
        "print(\"The a param that produces the smallest MAE is:\", a_vec[np.argmin(err_val_vec)])\n",
        "print(\"The lowest 10-fold cv MAE is:\", np.min(err_val_vec))\n",
        "\n",
        "# Plotting the results\n",
        "plt.figure(figsize=(5, 3))\n",
        "plt.plot(a_vec, err_val_vec, label=\"DT (Trained with A Loss)\")\n",
        "\n",
        "plt.legend(loc='upper right')\n",
        "plt.xlabel('ccp alpha parameter')\n",
        "plt.ylabel('Validation MAE')\n",
        "plt.tight_layout()\n",
        "plt.show()"
      ]
    },
    {
      "cell_type": "markdown",
      "metadata": {
        "id": "1QJBVQrH_EJz"
      },
      "source": [
        "## Support Vector Regression\n",
        "\n"
      ]
    },
    {
      "cell_type": "code",
      "execution_count": null,
      "metadata": {
        "id": "m4KsD5gF_URi",
        "colab": {
          "base_uri": "https://localhost:8080/",
          "height": 1000
        },
        "outputId": "2df884c4-3c2d-4cdf-a57f-8756f6978f4b"
      },
      "outputs": [
        {
          "output_type": "stream",
          "name": "stdout",
          "text": [
            "0\n",
            "****************************************************************\n",
            "MAE:\n",
            "Validation MAE for 10-fold CV folds are: [1.03198606 1.15028983 1.0189874  0.99827106 1.32728488 1.11995153\n",
            " 1.03230038 1.29380489 0.91991636 1.00831017]\n",
            "----------------------------------------------------------------\n",
            "Average validation MAE for for 10-fold CV folds is:  1.09\n",
            "Average training MAE for for 10-fold CV folds is:  1.09\n",
            "****************************************************************\n",
            "MSE:\n",
            "Validation MSE for 10-fold CV folds are: [1.82708522 2.67895154 1.96286883 1.83939463 3.10265435 2.41088314\n",
            " 1.90931832 3.4048908  1.39212176 2.04245541]\n",
            "---------------------------------------------------------------\n",
            "Average validation MSE for for 10-fold CV folds is:  2.26\n",
            "Average training MSE for for 10-fold CV folds is:  2.26\n",
            "***************************************************************\n",
            "1\n",
            "****************************************************************\n",
            "MAE:\n",
            "Validation MAE for 10-fold CV folds are: [1.03201203 1.15029416 1.01897833 0.99827917 1.32727569 1.11994832\n",
            " 1.0322971  1.29381632 0.91991309 1.00829556]\n",
            "----------------------------------------------------------------\n",
            "Average validation MAE for for 10-fold CV folds is:  1.09\n",
            "Average training MAE for for 10-fold CV folds is:  1.09\n",
            "****************************************************************\n",
            "MSE:\n",
            "Validation MSE for 10-fold CV folds are: [1.82714257 2.67891281 1.96285442 1.83943323 3.10269542 2.41087955\n",
            " 1.90937138 3.40493866 1.39212144 2.04247914]\n",
            "---------------------------------------------------------------\n",
            "Average validation MSE for for 10-fold CV folds is:  2.26\n",
            "Average training MSE for for 10-fold CV folds is:  2.26\n",
            "***************************************************************\n",
            "2\n",
            "****************************************************************\n",
            "MAE:\n",
            "Validation MAE for 10-fold CV folds are: [1.03262482 1.15217121 1.01842513 0.99737797 1.32737554 1.12024966\n",
            " 1.03400071 1.29397695 0.92003364 1.007854  ]\n",
            "----------------------------------------------------------------\n",
            "Average validation MAE for for 10-fold CV folds is:  1.09\n",
            "Average training MAE for for 10-fold CV folds is:  1.09\n",
            "****************************************************************\n",
            "MSE:\n",
            "Validation MSE for 10-fold CV folds are: [1.82147577 2.6635732  1.95853951 1.83383761 3.10126065 2.40345839\n",
            " 1.90283923 3.39694444 1.38814777 2.03828021]\n",
            "---------------------------------------------------------------\n",
            "Average validation MSE for for 10-fold CV folds is:  2.25\n",
            "Average training MSE for for 10-fold CV folds is:  2.25\n",
            "***************************************************************\n",
            "3\n",
            "****************************************************************\n",
            "MAE:\n",
            "Validation MAE for 10-fold CV folds are: [1.04776687 1.16684781 1.00326872 0.97780643 1.33014946 1.1315134\n",
            " 1.05497954 1.29981299 0.91433009 0.98717363]\n",
            "----------------------------------------------------------------\n",
            "Average validation MAE for for 10-fold CV folds is:  1.09\n",
            "Average training MAE for for 10-fold CV folds is:  1.07\n",
            "****************************************************************\n",
            "MSE:\n",
            "Validation MSE for 10-fold CV folds are: [1.73134858 2.46957838 1.85184185 1.73312796 3.01686508 2.26558937\n",
            " 1.83265595 3.25734747 1.30056832 1.90764274]\n",
            "---------------------------------------------------------------\n",
            "Average validation MSE for for 10-fold CV folds is:  2.14\n",
            "Average training MSE for for 10-fold CV folds is:  2.09\n",
            "***************************************************************\n",
            "4\n",
            "****************************************************************\n",
            "MAE:\n",
            "Validation MAE for 10-fold CV folds are: [1.11039559 1.18118262 1.09267712 1.08901469 1.35663551 1.21544033\n",
            " 1.24804199 1.32201371 0.98437529 1.05361332]\n",
            "----------------------------------------------------------------\n",
            "Average validation MAE for for 10-fold CV folds is:  1.17\n",
            "Average training MAE for for 10-fold CV folds is:  0.68\n",
            "****************************************************************\n",
            "MSE:\n",
            "Validation MSE for 10-fold CV folds are: [1.8603487  2.45320019 1.69557252 1.76538306 2.82257688 2.32022436\n",
            " 2.22310884 3.27560397 1.42542941 1.80643276]\n",
            "---------------------------------------------------------------\n",
            "Average validation MSE for for 10-fold CV folds is:  2.16\n",
            "Average training MSE for for 10-fold CV folds is:  0.85\n",
            "***************************************************************\n",
            "5\n",
            "****************************************************************\n",
            "MAE:\n",
            "Validation MAE for 10-fold CV folds are: [1.06712487 1.26307087 1.02280928 0.99683315 1.33779126 1.25407059\n",
            " 1.12058676 1.30448933 0.96427107 1.10213321]\n",
            "----------------------------------------------------------------\n",
            "Average validation MAE for for 10-fold CV folds is:  1.14\n",
            "Average training MAE for for 10-fold CV folds is:  0.48\n",
            "****************************************************************\n",
            "MSE:\n",
            "Validation MSE for 10-fold CV folds are: [1.50782992 2.31621567 1.55647452 1.40761169 2.46196256 2.11567877\n",
            " 1.58078652 2.83277219 1.25576928 1.91079177]\n",
            "---------------------------------------------------------------\n",
            "Average validation MSE for for 10-fold CV folds is:  1.89\n",
            "Average training MSE for for 10-fold CV folds is:  0.28\n",
            "***************************************************************\n",
            "6\n",
            "****************************************************************\n",
            "MAE:\n",
            "Validation MAE for 10-fold CV folds are: [1.07091669 1.31268567 1.04538545 1.01563145 1.3356188  1.26082249\n",
            " 1.13648548 1.27436948 0.95835491 1.07609964]\n",
            "----------------------------------------------------------------\n",
            "Average validation MAE for for 10-fold CV folds is:  1.15\n",
            "Average training MAE for for 10-fold CV folds is:  0.47\n",
            "****************************************************************\n",
            "MSE:\n",
            "Validation MSE for 10-fold CV folds are: [1.50151008 2.39498463 1.58307703 1.45074722 2.41971717 2.08137232\n",
            " 1.6299249  2.69268497 1.23623625 1.73844951]\n",
            "---------------------------------------------------------------\n",
            "Average validation MSE for for 10-fold CV folds is:  1.87\n",
            "Average training MSE for for 10-fold CV folds is:  0.26\n",
            "***************************************************************\n",
            "7\n",
            "****************************************************************\n",
            "MAE:\n",
            "Validation MAE for 10-fold CV folds are: [1.07161386 1.31385702 1.04665606 1.01659974 1.33558484 1.25274573\n",
            " 1.13855956 1.27440603 0.96031071 1.04224904]\n",
            "----------------------------------------------------------------\n",
            "Average validation MAE for for 10-fold CV folds is:  1.15\n",
            "Average training MAE for for 10-fold CV folds is:  0.47\n",
            "****************************************************************\n",
            "MSE:\n",
            "Validation MSE for 10-fold CV folds are: [1.5028695  2.39632541 1.58376816 1.45138829 2.41655402 2.02347136\n",
            " 1.63458207 2.68912506 1.24047232 1.60961788]\n",
            "---------------------------------------------------------------\n",
            "Average validation MSE for for 10-fold CV folds is:  1.85\n",
            "Average training MSE for for 10-fold CV folds is:  0.25\n",
            "***************************************************************\n",
            "8\n",
            "****************************************************************\n",
            "MAE:\n",
            "Validation MAE for 10-fold CV folds are: [1.07161439 1.3138582  1.04665725 1.01660064 1.33558515 1.25274412\n",
            " 1.13856866 1.27439189 0.96031179 1.04222649]\n",
            "----------------------------------------------------------------\n",
            "Average validation MAE for for 10-fold CV folds is:  1.15\n",
            "Average training MAE for for 10-fold CV folds is:  0.47\n",
            "****************************************************************\n",
            "MSE:\n",
            "Validation MSE for 10-fold CV folds are: [1.50287054 2.39632672 1.5837688  1.45138888 2.41655259 2.02341487\n",
            " 1.63459241 2.68910873 1.24047439 1.60954619]\n",
            "---------------------------------------------------------------\n",
            "Average validation MSE for for 10-fold CV folds is:  1.85\n",
            "Average training MSE for for 10-fold CV folds is:  0.25\n",
            "***************************************************************\n",
            "Best gamma value = 2000\n",
            "Lowest validation error = 1.8548044108951758\n",
            "Execution time: 4.048219203948975\n"
          ]
        },
        {
          "output_type": "display_data",
          "data": {
            "text/plain": [
              "<Figure size 432x288 with 1 Axes>"
            ],
            "image/png": "[encoded data removed]"
          },
          "metadata": {
            "needs_background": "light"
          }
        }
      ],
      "source": [
        "start2= time.time()\n",
        "#Standarize data\n",
        "X_s = StandardScaler()\n",
        "Y_s=StandardScaler()\n",
        "Xtrainval_svr = X_s.fit_transform(Xtrainval)  #To make the algorithm easier\n",
        "Ytrainval_svr = Ytrainval\n",
        "\n",
        "N=Ytrainval_svr.shape[0]\n",
        "sigma = np.std(Ytrainval_svr)\n",
        "e=3*sigma*np.sqrt(np.log(N)/N)\n",
        "\n",
        "#Fit the model using the Radial Basis Function (RBF) kernel\n",
        "gammas = [2e-9, 2e-7, 2e-5,2e-3,2e-1,2,20,200,2000]\n",
        "es = np.zeros(len(gammas))\n",
        "\n",
        "m=0\n",
        "for g in gammas:\n",
        "  SVR_reg = SVR(kernel = 'rbf',C=3, epsilon=e, gamma=g)\n",
        "  print(m)\n",
        "  es[m],s=kfold(SVR_reg, Xtrainval_svr, Ytrainval_svr.values.ravel(), 10, True)\n",
        "  m+=1\n",
        "\n",
        "end2 = time.time()\n",
        "  \n",
        "minimum = min(es)\n",
        "idx = np.argmin(es)\n",
        "best_gamma = gammas[idx]\n",
        "print(\"Best gamma value =\",best_gamma)\n",
        "print(\"Lowest validation error =\", minimum)\n",
        "print(\"Execution time: \" + str(end2-start2))\n",
        "\n",
        "\n",
        "plt.plot(gammas,es)\n",
        "plt.xlabel('Gamma')\n",
        "plt.ylabel('Validation Error')\n",
        "plt.show()"
      ]
    },
    {
      "cell_type": "markdown",
      "source": [
        "Testing the model"
      ],
      "metadata": {
        "id": "Ses8PCjOGVrB"
      }
    },
    {
      "cell_type": "code",
      "source": [
        "regressor = SVR(kernel = 'rbf', C=1.2, epsilon=e, gamma=2000)\n",
        "regressor.fit(Xtrainval_svr,Ytrainval)\n",
        "Xtest_svr = X_s.transform(Xtest)\n",
        "y_pred=regressor.predict(Xtest_svr)\n",
        "print(\"MSE: \", mean_squared_error(y_pred, Ytest))\n",
        "\n",
        "abs_error_1=scoreaccuracy(regressor, Xtest_svr, Ytest, 'abs_err', 1)\n",
        "abs_error_2=scoreaccuracy(regressor, Xtest_svr, Ytest, 'abs_err', 2)\n",
        "print(abs_error_1*100)\n",
        "print(abs_error_2*100)\n",
        "\n",
        "\n"
      ],
      "metadata": {
        "id": "eySpqXRCRsWn",
        "colab": {
          "base_uri": "https://localhost:8080/"
        },
        "outputId": "27720314-dd15-4b31-9511-763c64ca9109"
      },
      "execution_count": null,
      "outputs": [
        {
          "output_type": "stream",
          "name": "stdout",
          "text": [
            "MSE:  2.203783519324042\n",
            "12.5\n",
            "69.23076923076923\n"
          ]
        },
        {
          "output_type": "stream",
          "name": "stderr",
          "text": [
            "/usr/local/lib/python3.7/dist-packages/sklearn/utils/validation.py:993: DataConversionWarning: A column-vector y was passed when a 1d array was expected. Please change the shape of y to (n_samples, ), for example using ravel().\n",
            "  y = column_or_1d(y, warn=True)\n"
          ]
        }
      ]
    },
    {
      "cell_type": "markdown",
      "metadata": {
        "id": "LoD8Xvde1Yvn"
      },
      "source": [
        "## Multi-layer Perceptron"
      ]
    },
    {
      "cell_type": "code",
      "execution_count": null,
      "metadata": {
        "id": "jPvD542yG4yF"
      },
      "outputs": [],
      "source": [
        "def plot_history(history):\n",
        "  pd.DataFrame(history).plot(figsize=(7,4))\n",
        "  plt.grid(True)\n",
        "  plt.xlabel('epoch', fontsize=14)\n",
        "  plt.show()"
      ]
    },
    {
      "cell_type": "code",
      "execution_count": null,
      "metadata": {
        "id": "f3SHyqp3wfNj",
        "colab": {
          "base_uri": "https://localhost:8080/",
          "height": 474
        },
        "outputId": "8562626d-9e32-4408-e246-ebd50ecb6cef"
      },
      "outputs": [
        {
          "output_type": "stream",
          "name": "stdout",
          "text": [
            "mean_squared_error: 1.37\n",
            "mean_squared_error: 1.33\n",
            "mean_squared_error: 2.61\n",
            "mean_squared_error: 1.54\n",
            "mean_squared_error: 1.79\n",
            "mean_squared_error: 2.25\n",
            "mean_squared_error: 1.86\n",
            "mean_squared_error: 2.49\n",
            "mean_squared_error: 3.06\n",
            "mean_squared_error: 1.63\n",
            "1.99 (+/- 0.55)\n"
          ]
        },
        {
          "output_type": "display_data",
          "data": {
            "text/plain": [
              "<Figure size 504x288 with 1 Axes>"
            ],
            "image/png": "[encoded data removed]"
          },
          "metadata": {
            "needs_background": "light"
          }
        }
      ],
      "source": [
        "k_fold = KFold(n_splits=10, shuffle=True, random_state=42)\n",
        "cvscores = []\n",
        "\n",
        "for train, test in k_fold.split(Xtrainval, Ytrainval):\n",
        "  # Create model\n",
        "  model = keras.Sequential()\n",
        "  model.add(layers.Dense(200, \"relu\", input_shape=(12,)))\n",
        "  model.add(layers.Dropout(0.2))\n",
        "  model.add(layers.Dense(200, \"relu\"))\n",
        "  model.add(layers.Dropout(0.2))\n",
        "  model.add(layers.Dense(100, \"relu\"))\n",
        "  model.add(layers.Dropout(0.2))\n",
        "  model.add(layers.Dense(100, \"relu\"))\n",
        "  model.add(layers.Dropout(0.2))\n",
        "  model.add(layers.Dense(20, \"relu\"))\n",
        "  model.add(layers.Dense(1))\n",
        "  # Compile model\n",
        "  model.compile(optimizer='adam',\n",
        "              loss=tf.keras.losses.MeanSquaredError(), \n",
        "              metrics=['MeanSquaredError'])\n",
        "  # Fit the model\n",
        "  history = model.fit(Xtrainval.iloc[train], Ytrainval.iloc[train], validation_data = (Xtrainval.iloc[test], Ytrainval.iloc[test]), epochs=150, batch_size=10, verbose=0)\n",
        "  # evaluate the model\n",
        "  scores = model.evaluate(Xtrainval.iloc[test], Ytrainval.iloc[test], verbose=0)\n",
        "  print(\"%s: %.2f\" % (model.metrics_names[1], scores[1]))\n",
        "  cvscores.append(scores[1])\n",
        "\n",
        "print(\"%.2f (+/- %.2f)\" % (np.mean(cvscores), np.std(cvscores)))\n",
        "plot_history(history.history)"
      ]
    }
  ],
  "metadata": {
    "colab": {
      "collapsed_sections": [],
      "toc_visible": true,
      "provenance": []
    },
    "kernelspec": {
      "display_name": "Python 3",
      "name": "python3"
    },
    "language_info": {
      "name": "python"
    }
  },
  "nbformat": 4,
  "nbformat_minor": 0
}